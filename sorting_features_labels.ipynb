{
 "cells": [
  {
   "cell_type": "markdown",
   "id": "1415f133",
   "metadata": {},
   "source": [
    "## Sorting the images and labels"
   ]
  },
  {
   "cell_type": "code",
   "execution_count": 1,
   "id": "25986c88",
   "metadata": {},
   "outputs": [
    {
     "name": "stdout",
     "output_type": "stream",
     "text": [
      "Importing Dependencies\n"
     ]
    }
   ],
   "source": [
    "import cv2\n",
    "import numpy as np\n",
    "import pandas as pd\n",
    "import glob, os, re, time, sys, math, ast, json\n",
    "\n",
    "print('Importing Dependencies')"
   ]
  },
  {
   "cell_type": "markdown",
   "id": "d7229010",
   "metadata": {},
   "source": [
    "### Generic functions for processing the data"
   ]
  },
  {
   "cell_type": "code",
   "execution_count": 3,
   "id": "24bf88d4",
   "metadata": {},
   "outputs": [],
   "source": [
    "def catalog_to_dataframe(line_list):\n",
    "    res = [ast.literal_eval(x) for x in line_list] \n",
    "    dataframe = pd.DataFrame(res)\n",
    "    dataframe = dataframe.set_index('_index')\n",
    "    dataframe = dataframe.drop(['_session_id','_timestamp_ms', 'user/mode'], axis = 1)\n",
    "    return dataframe\n",
    "\n",
    "def numericalSort(value):\n",
    "    numbers = re.compile(r'(\\d+)')\n",
    "    parts = numbers.split(value)\n",
    "    parts[1::2] = map(int, parts[1::2])\n",
    "    return parts\n",
    "\n",
    "def make_dataframe(main_dir):\n",
    "    catalog_files=sorted(glob.glob(main_dir), key=numericalSort)\n",
    "    myDataFrame = pd.DataFrame()\n",
    "    for i in range (0, len(catalog_files)):\n",
    "        infile = open(catalog_files[i]) \n",
    "        lines = infile.readlines()\n",
    "        df = catalog_to_dataframe(lines)\n",
    "        myDataFrame = myDataFrame.append(df)\n",
    "    return myDataFrame\n",
    "\n",
    "def slicing(dataframe, r1, r2, string):\n",
    "    if None not in (r1, r2):\n",
    "        column = dataframe.loc[r1:r2,string]\n",
    "    else:\n",
    "        column = dataframe.loc[:,string]\n",
    "    arr = column.values\n",
    "    return arr\n",
    "    \n",
    "def steeing_throttle(n, s_t, f):\n",
    "    nn = n.tolist()\n",
    "    rounded_nn = [ '%.6f' % i for i in nn ]\n",
    "    if s_t=='s':\n",
    "        with open('steering_{}.json'.format(f), 'w', encoding='utf-8') as f:  # saving steering value as json file\n",
    "            json.dump(nn, f, ensure_ascii=False, indent=4)\n",
    "    if s_t=='t':\n",
    "        with open('throttle_{}.json'.format(f), 'w', encoding='utf-8') as f:  # saving throttle value as json file\n",
    "            json.dump(nn, f, ensure_ascii=False, indent=4)\n",
    "    else:\n",
    "        pass\n",
    "    return rounded_nn"
   ]
  },
  {
   "cell_type": "markdown",
   "id": "0b56a446",
   "metadata": {},
   "source": [
    "### Sorting labels from the directory"
   ]
  },
  {
   "cell_type": "code",
   "execution_count": 4,
   "id": "62e95856",
   "metadata": {},
   "outputs": [],
   "source": [
    "dir_1=r'C:/Users/Nishanth Siegener/Downloads/Studienarbeit/Bumblebee/Data/new_data_1/*.catalog'\n",
    "dir_2=r'C:/Users/Nishanth Siegener/Downloads/Studienarbeit/Bumblebee/Data/new_data_2/*.catalog'\n",
    "dir_3=r'C:/Users/Nishanth Siegener/Downloads/Studienarbeit/Bumblebee/Data/new_data_3/*.catalog'\n",
    "dir_4=r'C:/Users/Nishanth Siegener/Downloads/Studienarbeit/Bumblebee/Data/new_data_4/*.catalog'\n",
    "dir_5=r'C:/Users/Nishanth Siegener/Downloads/Studienarbeit/Bumblebee/Data/new_data_5/*.catalog'\n",
    "dir_6=r'C:/Users/Nishanth Siegener/Downloads/Studienarbeit/Bumblebee/Data/new_data_6/*.catalog'\n",
    "\n",
    "df_1 = make_dataframe(dir_1)\n",
    "df_2 = make_dataframe(dir_2)\n",
    "df_3 = make_dataframe(dir_3)\n",
    "df_4 = make_dataframe(dir_4)\n",
    "df_5 = make_dataframe(dir_5)\n",
    "df_6 = make_dataframe(dir_6)\n",
    "\n",
    "#Steering \n",
    "as1=slicing(df_1, 264, 20472, 'user/angle')\n",
    "as2=slicing(df_2, 565, len(df_2), 'user/angle')\n",
    "as3=slicing(df_3, 218, len(df_3), 'user/angle')\n",
    "as4=slicing(df_4, 0, 15433, 'user/angle')\n",
    "as5=slicing(df_5, 0, len(df_5), 'user/angle')\n",
    "as6=slicing(df_6, 0, 24340, 'user/angle')\n",
    "\n",
    "#Throttle \n",
    "at1=slicing(df_1, 264, 20472, 'user/throttle')\n",
    "at2=slicing(df_2, 565, len(df_2),'user/throttle')\n",
    "at3=slicing(df_3, 218, len(df_3),'user/throttle')\n",
    "at4=slicing(df_4, 0, 15433, 'user/throttle')\n",
    "at5=slicing(df_5, 0, len(df_5),'user/throttle')\n",
    "at6=slicing(df_6, 0, 24340, 'user/throttle')\n",
    "\n",
    "n_steer=np.concatenate((as1, as2, as3, as4, as5, as6),axis=0)\n",
    "n_throttle=np.concatenate((at1, at2, at3, at4, at5, at6),axis=0)\n",
    "\n",
    "steering_list_new=steeing_throttle(n_steer, s_t='s', f='new')\n",
    "throttle_list_new=steeing_throttle(n_throttle, s_t='t', f='new')"
   ]
  },
  {
   "cell_type": "code",
   "execution_count": 6,
   "id": "8d16ab8e",
   "metadata": {},
   "outputs": [
    {
     "data": {
      "text/plain": [
       "(20209, 52861, 40889, 15434, 23625, 24341)"
      ]
     },
     "execution_count": 6,
     "metadata": {},
     "output_type": "execute_result"
    }
   ],
   "source": [
    "len(as1), len(as2), len(as3), len(as4), len(as5), len(as6)"
   ]
  },
  {
   "cell_type": "markdown",
   "id": "a97b1255",
   "metadata": {},
   "source": [
    "### Sorting images from the directory "
   ]
  },
  {
   "cell_type": "code",
   "execution_count": 8,
   "id": "6606f14d",
   "metadata": {},
   "outputs": [
    {
     "data": {
      "text/plain": [
       "(20209, 52861, 40889, 15434, 23625, 24341, 6)"
      ]
     },
     "execution_count": 8,
     "metadata": {},
     "output_type": "execute_result"
    }
   ],
   "source": [
    "img_dir1=\"C:/Users/Nishanth Siegener/Downloads/Studienarbeit/Bumblebee/Data/new_data_1/*.jpg\"\n",
    "img_dir2=\"C:/Users/Nishanth Siegener/Downloads/Studienarbeit/Bumblebee/Data/new_data_2/*.jpg\"\n",
    "img_dir3='C:/Users/Nishanth Siegener/Downloads/Studienarbeit/Bumblebee/Data/new_data_3/*.jpg'\n",
    "img_dir4='C:/Users/Nishanth Siegener/Downloads/Studienarbeit/Bumblebee/Data/new_data_4/*.jpg'\n",
    "img_dir5='C:/Users/Nishanth Siegener/Downloads/Studienarbeit/Bumblebee/Data/new_data_5/*.jpg'\n",
    "img_dir6='C:/Users/Nishanth Siegener/Downloads/Studienarbeit/Bumblebee/Data/new_data_6/*.jpg'\n",
    "\n",
    "files_1=sorted(glob.glob(img_dir1), key=numericalSort)\n",
    "files_2=sorted(glob.glob(img_dir2), key=numericalSort)\n",
    "files_3=sorted(glob.glob(img_dir3), key=numericalSort)\n",
    "files_4=sorted(glob.glob(img_dir4), key=numericalSort)\n",
    "files_5=sorted(glob.glob(img_dir5), key=numericalSort)\n",
    "files_6=sorted(glob.glob(img_dir6), key=numericalSort)\n",
    "\n",
    "order_new = [files_1[264:20473], files_2[565:], files_3[218:], files_4[:15434], files_5, files_6[0:24341]]\n",
    "\n",
    "len(order_new[0]), len(order_new[1]), len(order_new[2]), len(order_new[3]),len(order_new[4]), len(order_new[5]), len(order_new)"
   ]
  },
  {
   "cell_type": "markdown",
   "id": "d73c14fe",
   "metadata": {},
   "source": [
    "### Saving the images in sequences"
   ]
  },
  {
   "cell_type": "code",
   "execution_count": 9,
   "id": "0948cf63",
   "metadata": {},
   "outputs": [],
   "source": [
    "m=0\n",
    "for i in range(0,len(order_new)):\n",
    "    for j in order_new[i]:\n",
    "        img=cv2.imread(j)\n",
    "        m+=1\n",
    "        break\n",
    "        cv2.imwrite('C:/path/to/directory/{}.jpg'.format(m), img) #create new folder to save each time to avoid confusion"
   ]
  }
 ],
 "metadata": {
  "kernelspec": {
   "display_name": "Python 3",
   "language": "python",
   "name": "python3"
  },
  "language_info": {
   "codemirror_mode": {
    "name": "ipython",
    "version": 3
   },
   "file_extension": ".py",
   "mimetype": "text/x-python",
   "name": "python",
   "nbconvert_exporter": "python",
   "pygments_lexer": "ipython3",
   "version": "3.8.8"
  }
 },
 "nbformat": 4,
 "nbformat_minor": 5
}
